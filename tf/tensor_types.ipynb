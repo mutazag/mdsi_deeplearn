{
 "cells": [
  {
   "cell_type": "markdown",
   "metadata": {},
   "source": [
    "# Tensor types\n",
    "\n",
    "\n",
    "https://github.com/easy-tensorflow/easy-tensorflow/blob/master/1_TensorFlow_Basics/Tutorials/2_Tensor_Types.ipynb\n"
   ]
  },
  {
   "cell_type": "code",
   "execution_count": 1,
   "metadata": {},
   "outputs": [],
   "source": [
    "import tensorflow as tf"
   ]
  },
  {
   "cell_type": "markdown",
   "metadata": {},
   "source": [
    "## tensor types\n",
    "\n",
    "- constant\n",
    "- variable \n",
    "- placeholder\n"
   ]
  },
  {
   "cell_type": "markdown",
   "metadata": {},
   "source": [
    "## Constants\n",
    "\n"
   ]
  },
  {
   "cell_type": "code",
   "execution_count": 17,
   "metadata": {},
   "outputs": [],
   "source": [
    "# create graph \n",
    "\n",
    "a = tf.constant(4, name=\"a\")\n",
    "b = tf.constant(2, name=\"b\")\n",
    "\n",
    "c = tf.add(b,a,name=\"Sum\") #a + b"
   ]
  },
  {
   "cell_type": "code",
   "execution_count": 18,
   "metadata": {},
   "outputs": [
    {
     "name": "stdout",
     "output_type": "stream",
     "text": [
      "a: Tensor(\"a_2:0\", shape=(), dtype=int32)\n",
      "b: Tensor(\"b_1:0\", shape=(), dtype=int32)\n",
      "c: Tensor(\"Sum:0\", shape=(), dtype=int32)\n"
     ]
    }
   ],
   "source": [
    "print(\"a: {}\\nb: {}\\nc: {}\".format(\n",
    "    a,\n",
    "    b,\n",
    "    c))\n"
   ]
  },
  {
   "cell_type": "code",
   "execution_count": 19,
   "metadata": {},
   "outputs": [
    {
     "name": "stdout",
     "output_type": "stream",
     "text": [
      "[4, 2, 6]\n",
      "<class 'list'>\n"
     ]
    }
   ],
   "source": [
    "with tf.Session() as sess: \n",
    "    out = sess.run([a, b, c])\n",
    "    print(out)\n",
    "    print(type(out))"
   ]
  },
  {
   "cell_type": "markdown",
   "metadata": {},
   "source": [
    "# Variable"
   ]
  },
  {
   "cell_type": "code",
   "execution_count": 31,
   "metadata": {},
   "outputs": [],
   "source": [
    "s = tf.Variable(1, name=\"Sacler\")\n"
   ]
  },
  {
   "cell_type": "code",
   "execution_count": 32,
   "metadata": {},
   "outputs": [],
   "source": [
    "m = tf.Variable([[1,2],[3,4]], name=\"Matrix\")\n"
   ]
  },
  {
   "cell_type": "code",
   "execution_count": 33,
   "metadata": {},
   "outputs": [],
   "source": [
    "W = tf.Variable(tf.zeros([784,10]))"
   ]
  },
  {
   "cell_type": "code",
   "execution_count": 35,
   "metadata": {},
   "outputs": [
    {
     "name": "stdout",
     "output_type": "stream",
     "text": [
      "<tf.Variable 'Sacler_3:0' shape=() dtype=int32_ref>\n",
      "<tf.Variable 'Matrix_4:0' shape=(2, 2) dtype=int32_ref>\n",
      "<tf.Variable 'Variable_1:0' shape=(784, 10) dtype=float32_ref>\n",
      "\n"
     ]
    }
   ],
   "source": [
    "print(\"{}\\n{}\\n{}\\n\".format(s,m,W))"
   ]
  },
  {
   "cell_type": "code",
   "execution_count": 39,
   "metadata": {},
   "outputs": [],
   "source": [
    "s = tf.get_variable(\"scaler1\", initializer=tf.constant(2))\n",
    "m = tf.get_variable(\"matrix1\", initializer=tf.constant([[1,2],[3,4]]))\n",
    "W = tf.get_variable(\"weight_matrix1\", shape=(784, 10), initializer=tf.zeros_initializer())"
   ]
  },
  {
   "cell_type": "code",
   "execution_count": 40,
   "metadata": {},
   "outputs": [
    {
     "name": "stdout",
     "output_type": "stream",
     "text": [
      "<tf.Variable 'scaler1:0' shape=() dtype=int32_ref>\n",
      "<tf.Variable 'matrix1:0' shape=(2, 2) dtype=int32_ref>\n",
      "<tf.Variable 'weight_matrix1:0' shape=(784, 10) dtype=float32_ref>\n",
      "\n"
     ]
    }
   ],
   "source": [
    "print(\"{}\\n{}\\n{}\\n\".format(s,m,W))\n"
   ]
  },
  {
   "cell_type": "code",
   "execution_count": 47,
   "metadata": {},
   "outputs": [
    {
     "name": "stdout",
     "output_type": "stream",
     "text": [
      "[2, array([[1, 2],\n",
      "       [3, 4]]), array([[0., 0., 0., ..., 0., 0., 0.],\n",
      "       [0., 0., 0., ..., 0., 0., 0.],\n",
      "       [0., 0., 0., ..., 0., 0., 0.],\n",
      "       ...,\n",
      "       [0., 0., 0., ..., 0., 0., 0.],\n",
      "       [0., 0., 0., ..., 0., 0., 0.],\n",
      "       [0., 0., 0., ..., 0., 0., 0.]], dtype=float32)]\n"
     ]
    }
   ],
   "source": [
    "with tf.Session() as sess: \n",
    "    sess.run(tf.global_variables_initializer())\n",
    "    print( sess.run([s,m,W]))"
   ]
  },
  {
   "cell_type": "code",
   "execution_count": null,
   "metadata": {},
   "outputs": [],
   "source": []
  }
 ],
 "metadata": {
  "kernelspec": {
   "display_name": "Python 3",
   "language": "python",
   "name": "python3"
  },
  "language_info": {
   "codemirror_mode": {
    "name": "ipython",
    "version": 3
   },
   "file_extension": ".py",
   "mimetype": "text/x-python",
   "name": "python",
   "nbconvert_exporter": "python",
   "pygments_lexer": "ipython3",
   "version": "3.6.8"
  }
 },
 "nbformat": 4,
 "nbformat_minor": 2
}
